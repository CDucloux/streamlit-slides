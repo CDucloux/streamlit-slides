{
 "cells": [
  {
   "cell_type": "code",
   "execution_count": null,
   "metadata": {},
   "outputs": [],
   "source": [
    "import requests\n",
    "import polars as pl"
   ]
  },
  {
   "cell_type": "code",
   "execution_count": null,
   "metadata": {},
   "outputs": [],
   "source": [
    "requests.get(\"https://archive.ics.uci.edu/dataset/133/msnbc+com+anonymous+web+data\")"
   ]
  },
  {
   "cell_type": "code",
   "execution_count": null,
   "metadata": {},
   "outputs": [],
   "source": [
    "# url_2 = \"https://api.fiscaldata.treasury.gov/services/api/fiscal_service/v1/accounting/od/securities_sales?page[size]=10000\"\n",
    "# response = requests.get(url_2)"
   ]
  },
  {
   "cell_type": "code",
   "execution_count": null,
   "metadata": {},
   "outputs": [],
   "source": [
    "# pl.DataFrame(response.json().get('data')).schema"
   ]
  },
  {
   "cell_type": "code",
   "execution_count": null,
   "metadata": {},
   "outputs": [],
   "source": [
    "covid_19_data = pl.read_csv(\n",
    "    \"https://raw.githubusercontent.com/nytimes/covid-19-data/master/us-counties-2020.csv\"\n",
    ")"
   ]
  },
  {
   "cell_type": "code",
   "execution_count": 31,
   "metadata": {},
   "outputs": [
    {
     "data": {
      "text/html": [
       "<div><style>\n",
       ".dataframe > thead > tr > th,\n",
       ".dataframe > tbody > tr > td {\n",
       "  text-align: right;\n",
       "  white-space: pre-wrap;\n",
       "}\n",
       "</style>\n",
       "<small>shape: (55, 2)</small><table border=\"1\" class=\"dataframe\"><thead><tr><th>state</th><th>deaths</th></tr><tr><td>str</td><td>i64</td></tr></thead><tbody><tr><td>&quot;New York&quot;</td><td>36454</td></tr><tr><td>&quot;Texas&quot;</td><td>26624</td></tr><tr><td>&quot;California&quot;</td><td>23633</td></tr><tr><td>&quot;Florida&quot;</td><td>20873</td></tr><tr><td>&quot;New Jersey&quot;</td><td>18466</td></tr><tr><td>&quot;Illinois&quot;</td><td>16846</td></tr><tr><td>&quot;Pennsylvania&quot;</td><td>14470</td></tr><tr><td>&quot;Michigan&quot;</td><td>12405</td></tr><tr><td>&quot;Massachusetts&quot;</td><td>11887</td></tr><tr><td>&quot;Georgia&quot;</td><td>10193</td></tr><tr><td>&quot;Ohio&quot;</td><td>8361</td></tr><tr><td>&quot;Arizona&quot;</td><td>8184</td></tr><tr><td>&hellip;</td><td>&hellip;</td></tr><tr><td>&quot;Montana&quot;</td><td>917</td></tr><tr><td>&quot;Delaware&quot;</td><td>872</td></tr><tr><td>&quot;District of Co…</td><td>751</td></tr><tr><td>&quot;New Hampshire&quot;</td><td>677</td></tr><tr><td>&quot;Wyoming&quot;</td><td>373</td></tr><tr><td>&quot;Maine&quot;</td><td>311</td></tr><tr><td>&quot;Hawaii&quot;</td><td>283</td></tr><tr><td>&quot;Alaska&quot;</td><td>189</td></tr><tr><td>&quot;Guam&quot;</td><td>121</td></tr><tr><td>&quot;Vermont&quot;</td><td>117</td></tr><tr><td>&quot;Virgin Islands…</td><td>23</td></tr><tr><td>&quot;Northern Maria…</td><td>2</td></tr></tbody></table></div>"
      ],
      "text/plain": [
       "shape: (55, 2)\n",
       "┌──────────────────────────┬────────┐\n",
       "│ state                    ┆ deaths │\n",
       "│ ---                      ┆ ---    │\n",
       "│ str                      ┆ i64    │\n",
       "╞══════════════════════════╪════════╡\n",
       "│ New York                 ┆ 36454  │\n",
       "│ Texas                    ┆ 26624  │\n",
       "│ California               ┆ 23633  │\n",
       "│ Florida                  ┆ 20873  │\n",
       "│ …                        ┆ …      │\n",
       "│ Guam                     ┆ 121    │\n",
       "│ Vermont                  ┆ 117    │\n",
       "│ Virgin Islands           ┆ 23     │\n",
       "│ Northern Mariana Islands ┆ 2      │\n",
       "└──────────────────────────┴────────┘"
      ]
     },
     "execution_count": 31,
     "metadata": {},
     "output_type": "execute_result"
    }
   ],
   "source": [
    "covid_19_data.filter(pl.col(\"date\") == \"2020-12-23\").group_by(\"state\").agg(\n",
    "    pl.col(\"deaths\").sum()\n",
    ").sort(\"deaths\", descending=True)"
   ]
  }
 ],
 "metadata": {
  "kernelspec": {
   "display_name": "Python 3",
   "language": "python",
   "name": "python3"
  },
  "language_info": {
   "codemirror_mode": {
    "name": "ipython",
    "version": 3
   },
   "file_extension": ".py",
   "mimetype": "text/x-python",
   "name": "python",
   "nbconvert_exporter": "python",
   "pygments_lexer": "ipython3",
   "version": "3.10.6"
  }
 },
 "nbformat": 4,
 "nbformat_minor": 2
}
